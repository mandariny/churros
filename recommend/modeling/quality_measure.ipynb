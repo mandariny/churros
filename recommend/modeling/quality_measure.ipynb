{
 "cells": [
  {
   "cell_type": "code",
   "execution_count": 1,
   "metadata": {},
   "outputs": [],
   "source": [
    "from pymongo import MongoClient\n",
    "import pandas as pd\n",
    "# from dotenv import load_dotenv\n",
    "\n",
    "# load_dotenv(verbose=True,dotenv_path='./env')\n",
    "\n",
    "# mongoDB 설정\n",
    "mongo_host = \"localhost\"\n",
    "mongo_port = 27020\n",
    "mongo_user = \"churros\"\n",
    "mongo_passwd = \"A503\"\n",
    "mongo_db_name = \"newsdb\"\n",
    "mongo_client = MongoClient(host=mongo_host, port=mongo_port, username=mongo_user, password=mongo_passwd)\n",
    "\n",
    "\n",
    "db = mongo_client[mongo_db_name]\n",
    "collection = db['newsCol']\n",
    "tokencollection = db['newsToken'] # token collection"
   ]
  },
  {
   "cell_type": "code",
   "execution_count": 2,
   "metadata": {},
   "outputs": [],
   "source": [
    "data = list(collection.find())\n",
    "df = pd.DataFrame(data)"
   ]
  },
  {
   "cell_type": "markdown",
   "metadata": {},
   "source": [
    "## Quality Measurement\n",
    "- 제목길이, 본문길이, 기자 정보(skip), 섹션 정보, 콘텐츠 타입 정보(skip), 이미지 여부 -> feature로 활용\n",
    "- 추가적인 feature를 생성해도 될듯 (단어 갯수, 기타 등등...)\n",
    "- 위의 features 활용하여 기사의 quality 측정\n",
    "- 우선은 다중 회귀 활용 예정"
   ]
  },
  {
   "cell_type": "code",
   "execution_count": 16,
   "metadata": {},
   "outputs": [
    {
     "name": "stdout",
     "output_type": "stream",
     "text": [
      "<class 'pandas.core.frame.DataFrame'>\n",
      "RangeIndex: 128607 entries, 0 to 128606\n",
      "Data columns (total 44 columns):\n",
      " #   Column         Non-Null Count   Dtype\n",
      "---  ------         --------------   -----\n",
      " 0   full_text_len  128607 non-null  int64\n",
      " 1   IT/과학          128607 non-null  uint8\n",
      " 2   경제             128607 non-null  uint8\n",
      " 3   사회             128607 non-null  uint8\n",
      " 4   생활/문화          128607 non-null  uint8\n",
      " 5   연예             128607 non-null  uint8\n",
      " 6   정치             128607 non-null  uint8\n",
      " 7   IT 일반          128607 non-null  uint8\n",
      " 8   게임/리뷰          128607 non-null  uint8\n",
      " 9   경제 일반          128607 non-null  uint8\n",
      " 10  과학 일반          128607 non-null  uint8\n",
      " 11  교육             128607 non-null  uint8\n",
      " 12  국방/외교          128607 non-null  uint8\n",
      " 13  국회/정당          128607 non-null  uint8\n",
      " 14  글로벌 경제         128607 non-null  uint8\n",
      " 15  금융             128607 non-null  uint8\n",
      " 16  노동             128607 non-null  uint8\n",
      " 17  대통령실           128607 non-null  uint8\n",
      " 18  드라마            128607 non-null  uint8\n",
      " 19  모바일            128607 non-null  uint8\n",
      " 20  뮤직             128607 non-null  uint8\n",
      " 21  방송/TV          128607 non-null  uint8\n",
      " 22  보안/해킹          128607 non-null  uint8\n",
      " 23  부동산            128607 non-null  uint8\n",
      " 24  북한             128607 non-null  uint8\n",
      " 25  사건사고           128607 non-null  uint8\n",
      " 26  사회 일반          128607 non-null  uint8\n",
      " 27  산업/재계          128607 non-null  uint8\n",
      " 28  생활경제           128607 non-null  uint8\n",
      " 29  생활문화 일반        128607 non-null  uint8\n",
      " 30  언론             128607 non-null  uint8\n",
      " 31  연예가화제          128607 non-null  uint8\n",
      " 32  인물             128607 non-null  uint8\n",
      " 33  인터넷/SNS        128607 non-null  uint8\n",
      " 34  정치일반           128607 non-null  uint8\n",
      " 35  증권             128607 non-null  uint8\n",
      " 36  증기/벤처          128607 non-null  uint8\n",
      " 37  지역             128607 non-null  uint8\n",
      " 38  컴퓨터            128607 non-null  uint8\n",
      " 39  통신/뉴미디어        128607 non-null  uint8\n",
      " 40  해외연예           128607 non-null  uint8\n",
      " 41  행정             128607 non-null  uint8\n",
      " 42  환경             128607 non-null  uint8\n",
      " 43  img            128607 non-null  int64\n",
      "dtypes: int64(2), uint8(42)\n",
      "memory usage: 7.1 MB\n",
      "None\n"
     ]
    }
   ],
   "source": [
    "df_raw = pd.DataFrame(data)\n",
    "df = df_raw\n",
    "# 제목 길이 변수\n",
    "df['title_len'] = df['title'].apply(len)\n",
    "# 본문 길이 변수\n",
    "df['full_text'] = df['full_text'].apply(str)\n",
    "df['full_text_len'] = df['full_text'].apply(len)\n",
    "# 언론사 정보???\n",
    "# 카테고리 정보 (one hot encoding)\n",
    "category_dummies = pd.get_dummies(df['cat1'])\n",
    "df = pd.concat([df, category_dummies], axis=1)\n",
    "category_dummies2 = pd.get_dummies(df['cat2'])\n",
    "df = pd.concat([df, category_dummies2], axis=1)\n",
    "# 콘텐츠 타입 정보? pass\n",
    "\n",
    "# 이미지 여부(boolean)\n",
    "df['img'] = df['img_src'].apply(lambda x: 1 if x != \"\" else 0)\n",
    "df_quality = df.iloc[:,12:]\n",
    "x = df_quality.iloc[:,:-1]\n",
    "# 값의 경우 labeling 이 진행되어야 한다\n",
    "## quality 만들어주는 함수\n",
    "def get_quality(row):\n",
    "    if len(row['full_text']) < 50 or (len(row['full_text']) > 50 and len(row['full_text']) < 200 and not row['img_src']):\n",
    "        return 0\n",
    "    else:\n",
    "        return 1\n",
    "\n",
    "df['quality'] = df.apply(get_quality, axis=1)\n",
    "y = df['quality']\n",
    "print(df_quality.info())"
   ]
  },
  {
   "cell_type": "code",
   "execution_count": 28,
   "metadata": {},
   "outputs": [
    {
     "name": "stdout",
     "output_type": "stream",
     "text": [
      "0.0964205184232354\n"
     ]
    }
   ],
   "source": [
    "# 다중 회귀 분석\n",
    "from sklearn.model_selection import train_test_split\n",
    "from sklearn.linear_model import LinearRegression\n",
    "x_train, x_test, y_train, y_test = train_test_split(x, y, train_size=0.7, test_size=0.3)\n",
    "mlr = LinearRegression()\n",
    "mlr.fit(x_train, y_train)\n",
    "print(mlr.score(x_train, y_train))\n",
    "# 이제 mlr.predict(features) 에 값을 넣으면 결과값이 나온다\n",
    "# 이 결과값을 기준으로 특정 점수 이하일 경우 분석에서 제외 또는 출력에서 제외"
   ]
  },
  {
   "cell_type": "code",
   "execution_count": 29,
   "metadata": {},
   "outputs": [
    {
     "data": {
      "text/plain": [
       "array([0.96931833, 0.97882107, 0.96336841, ..., 1.00268594, 0.97981506,\n",
       "       0.95916184])"
      ]
     },
     "execution_count": 29,
     "metadata": {},
     "output_type": "execute_result"
    }
   ],
   "source": [
    "y_predict = mlr.predict(x_test)\n",
    "y_predict"
   ]
  },
  {
   "cell_type": "code",
   "execution_count": 30,
   "metadata": {},
   "outputs": [
    {
     "data": {
      "image/png": "[encoded data removed]",
      "text/plain": [
       "<Figure size 640x480 with 1 Axes>"
      ]
     },
     "metadata": {},
     "output_type": "display_data"
    }
   ],
   "source": [
    "import matplotlib.pyplot as plt\n",
    "plt.scatter(y_test, y_predict, alpha=0.4)\n",
    "plt.xlabel(\"Actual Quality\")\n",
    "plt.ylabel(\"Predicted Quality\")\n",
    "plt.title(\"MULTIPLE LINEAR REGRESSION\")\n",
    "plt.show()"
   ]
  },
  {
   "cell_type": "code",
   "execution_count": null,
   "metadata": {},
   "outputs": [],
   "source": []
  }
 ],
 "metadata": {
  "kernelspec": {
   "display_name": "venv",
   "language": "python",
   "name": "python3"
  },
  "language_info": {
   "codemirror_mode": {
    "name": "ipython",
    "version": 3
   },
   "file_extension": ".py",
   "mimetype": "text/x-python",
   "name": "python",
   "nbconvert_exporter": "python",
   "pygments_lexer": "ipython3",
   "version": "3.9.13"
  },
  "orig_nbformat": 4
 },
 "nbformat": 4,
 "nbformat_minor": 2
}
